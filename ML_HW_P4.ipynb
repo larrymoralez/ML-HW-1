{
  "nbformat": 4,
  "nbformat_minor": 0,
  "metadata": {
    "colab": {
      "name": "ML HW P4.ipynb",
      "version": "0.3.2",
      "provenance": [],
      "include_colab_link": true
    },
    "kernelspec": {
      "name": "python3",
      "display_name": "Python 3"
    }
  },
  "cells": [
    {
      "cell_type": "markdown",
      "metadata": {
        "id": "view-in-github",
        "colab_type": "text"
      },
      "source": [
        "<a href=\"https://colab.research.google.com/github/larrymoralez/ML-HW-1/blob/master/ML_HW_P4.ipynb\" target=\"_parent\"><img src=\"https://colab.research.google.com/assets/colab-badge.svg\" alt=\"Open In Colab\"/></a>"
      ]
    },
    {
      "metadata": {
        "id": "vU8fGjPH-voy",
        "colab_type": "code",
        "colab": {
          "base_uri": "https://localhost:8080/",
          "height": 408
        },
        "outputId": "67853a1b-ae48-42c7-db43-75492ce5adbd"
      },
      "cell_type": "code",
      "source": [
        "import numpy as np\n",
        "from keras.datasets import mnist\n",
        "from keras.utils import to_categorical\n",
        "from keras import models\n",
        "from keras import layers\n",
        "\n",
        "#import the mnist dataset\n",
        "(train_images, train_labels), (test_images, test_labels) = mnist.load_data()\n",
        "\n",
        "#Reshape and set dtype for images\n",
        "train_images = train_images.reshape((60000, 28 * 28))\n",
        "train_images = train_images.astype('float32') / 255\n",
        "\n",
        "test_images = test_images.reshape((10000, 28 * 28))\n",
        "test_images = test_images.astype('float32') / 255\n",
        "\n",
        "#Set training and test labels to categorical values\n",
        "train_labels = to_categorical(train_labels)\n",
        "test_labels = to_categorical(test_labels)\n",
        "\n",
        "#build a sequential model and add 1 layer\n",
        "model = models.Sequential()\n",
        "model.add(layers.Dense(10, activation='softmax'))\n",
        "\n",
        "#compile the model with CCE, set metrics\n",
        "model.compile(loss = 'categorical_crossentropy', optimizer = 'rmsprop', metrics=['accuracy'])\n",
        "\n",
        "#fit the model, set parameters\n",
        "model.fit(train_images, train_labels, epochs = 10, batch_size=1000, validation_data=(test_images, test_labels))\n",
        "\n",
        "#calculate accuracy\n",
        "acc = model.evaluate(test_images, test_labels)\n",
        "print(acc)\n",
        "\n",
        "#accuracy was 92.1%"
      ],
      "execution_count": 5,
      "outputs": [
        {
          "output_type": "stream",
          "text": [
            "Train on 60000 samples, validate on 10000 samples\n",
            "Epoch 1/10\n",
            "60000/60000 [==============================] - 1s 10us/step - loss: 1.3334 - acc: 0.6708 - val_loss: 0.8093 - val_acc: 0.8282\n",
            "Epoch 2/10\n",
            "60000/60000 [==============================] - 0s 8us/step - loss: 0.6567 - acc: 0.8474 - val_loss: 0.5095 - val_acc: 0.8784\n",
            "Epoch 3/10\n",
            "60000/60000 [==============================] - 0s 8us/step - loss: 0.4716 - acc: 0.8780 - val_loss: 0.4039 - val_acc: 0.8977\n",
            "Epoch 4/10\n",
            "60000/60000 [==============================] - 0s 8us/step - loss: 0.3971 - acc: 0.8928 - val_loss: 0.3569 - val_acc: 0.9069\n",
            "Epoch 5/10\n",
            "60000/60000 [==============================] - 0s 7us/step - loss: 0.3591 - acc: 0.9022 - val_loss: 0.3315 - val_acc: 0.9112\n",
            "Epoch 6/10\n",
            "60000/60000 [==============================] - 0s 7us/step - loss: 0.3365 - acc: 0.9078 - val_loss: 0.3166 - val_acc: 0.9135\n",
            "Epoch 7/10\n",
            "60000/60000 [==============================] - 0s 7us/step - loss: 0.3214 - acc: 0.9111 - val_loss: 0.3041 - val_acc: 0.9165\n",
            "Epoch 8/10\n",
            "60000/60000 [==============================] - 0s 7us/step - loss: 0.3107 - acc: 0.9140 - val_loss: 0.2970 - val_acc: 0.9178\n",
            "Epoch 9/10\n",
            "60000/60000 [==============================] - 0s 8us/step - loss: 0.3027 - acc: 0.9157 - val_loss: 0.2914 - val_acc: 0.9187\n",
            "Epoch 10/10\n",
            "60000/60000 [==============================] - 0s 7us/step - loss: 0.2964 - acc: 0.9173 - val_loss: 0.2870 - val_acc: 0.9201\n",
            "10000/10000 [==============================] - 0s 22us/step\n",
            "[0.28702830839157106, 0.9201]\n"
          ],
          "name": "stdout"
        }
      ]
    },
    {
      "metadata": {
        "id": "VRW3bpMDRgjm",
        "colab_type": "code",
        "colab": {}
      },
      "cell_type": "code",
      "source": [
        ""
      ],
      "execution_count": 0,
      "outputs": []
    }
  ]
}