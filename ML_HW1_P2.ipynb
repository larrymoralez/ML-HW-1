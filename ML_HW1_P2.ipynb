{
  "nbformat": 4,
  "nbformat_minor": 0,
  "metadata": {
    "colab": {
      "name": "ML HW1 P2.ipynb",
      "version": "0.3.2",
      "provenance": [],
      "collapsed_sections": [],
      "include_colab_link": true
    },
    "kernelspec": {
      "name": "python3",
      "display_name": "Python 3"
    }
  },
  "cells": [
    {
      "cell_type": "markdown",
      "metadata": {
        "id": "view-in-github",
        "colab_type": "text"
      },
      "source": [
        "<a href=\"https://colab.research.google.com/github/larrymoralez/ML-HW-1/blob/master/ML_HW1_P2.ipynb\" target=\"_parent\"><img src=\"https://colab.research.google.com/assets/colab-badge.svg\" alt=\"Open In Colab\"/></a>"
      ]
    },
    {
      "metadata": {
        "id": "BnCZBwSp0iS8",
        "colab_type": "code",
        "outputId": "b2375b6f-71b5-46c2-a3eb-fef2a292d785",
        "colab": {
          "base_uri": "https://localhost:8080/",
          "height": 51
        }
      },
      "cell_type": "code",
      "source": [
        "import numpy as np\n",
        "import matplotlib.pyplot as plt\n",
        "%matplotlib inline\n",
        "\n",
        "\n",
        "#Load the MNIST Data set, split it into training and test sets, and convert it to 2D\n",
        "from keras.datasets import mnist\n",
        "\n",
        "(train_images, train_labels), (test_images, test_labels) = mnist.load_data()\n",
        "\n",
        "train_images = train_images.reshape((60000, 28 * 28))\n",
        "train_images = train_images.astype('float32') / 255\n",
        "\n",
        "test_images = test_images.reshape((10000, 28 * 28))\n",
        "test_images = test_images.astype('float32') / 255\n",
        "\n",
        "\n",
        "#User can manipulate this digit variable to test the model for each or the 10 digits\n",
        "digit = 9\n",
        "\n",
        "#Convert training and test labels to binary\n",
        "for i in range(len(test_labels)):\n",
        "    if test_labels[i] == digit:\n",
        "        test_labels[i] = 1\n",
        "    else:\n",
        "        test_labels[i] = 0\n",
        "        \n",
        "for i in range(len(train_labels)):\n",
        "    if train_labels[i] == digit:\n",
        "        train_labels[i] = 1\n",
        "    else:\n",
        "        train_labels[i] = 0\n",
        "\n",
        "\n",
        "\n",
        "#Mini batch or SGD to select random samples from train images. Experiment with whatever size batches.\n",
        "s = np.random.permutation(len(train_labels))\n",
        "train_labels[s[i]]\n",
        "\n",
        "\n",
        "    \n",
        "#Sigmoid activation function\n",
        "def sigmoid(x):\n",
        "    return 1 / (1 + np.exp(-x))\n",
        "\n",
        "\n",
        "#Set initial model params and calculate gradient using LA\n",
        "batch_size = 5000\n",
        "epochs = 10\n",
        "lr = 4000\n",
        "np.random.seed(42)\n",
        "initial_weight = np.random.randn(784) #for problem 3, do the same thing for 10, 28, 28 matrix (10,784) or (784, 10)\n",
        "weight = initial_weight\n",
        "n = len(train_images)\n",
        "b = np.random.random_sample()\n",
        "\n",
        "\n",
        "#Binary Cross-entropy. \n",
        "for epoch in range(epochs):\n",
        "    for i in range(batch_size):\n",
        "        offset = epoch * batch_size + i\n",
        "        xi = train_images[s[offset]]\n",
        "        yi = train_labels[s[offset]]\n",
        "        z = xi.T.dot(weight) + b\n",
        "        a = sigmoid(z)\n",
        "        w_gradient = 2/n * xi.T.dot(a - yi)\n",
        "        weight = weight - lr * w_gradient\n",
        "        b_gradient = 2/n * (a - yi)\n",
        "        b = b - lr * b_gradient\n",
        "\n",
        "        \n",
        "#Run test images through the model to get predictions\n",
        "        \n",
        "prediction_array = [0 for x in range(len(test_images))]\n",
        "\n",
        "for i in range(len(test_images)):\n",
        "    x = test_images[i]\n",
        "    z = x.T.dot(weight) + b\n",
        "    a_predict = sigmoid(z)\n",
        "    if a_predict > 0.5:\n",
        "         a_predict = 1\n",
        "    else:\n",
        "         a_predict = 0\n",
        "    prediction_array[i] = a_predict\n",
        "\n",
        "\n",
        "#Check predictions and calculate accuracy    \n",
        "\n",
        "count_correct = 0\n",
        "\n",
        "for i in range(len(test_labels)):\n",
        "    y = test_labels[i]\n",
        "    if prediction_array[i] == 1 and test_labels[i] == 1:\n",
        "        count_correct = count_correct + 1\n",
        "    if prediction_array[i] == 0 and test_labels[i] == 0:\n",
        "        count_correct = count_correct + 1\n",
        "    accuracy = count_correct/(len(test_images))\n",
        "\n",
        "print(count_correct) \n",
        "print(accuracy)\n",
        "\n",
        "#The accuracy for #0 was: 99.1%\n",
        "#The accuracy for #1 was: 99.1%\n",
        "#The accuracy for #2 was: 97.1%\n",
        "#The accuracy for #3 was: 97.6%\n",
        "#The accuracy for #4 was: 95.7%\n",
        "#The accuracy for #5 was: 93.5%\n",
        "#The accuracy for #6 was: 98.0%\n",
        "#The accuracy for #7 was: 97.7%\n",
        "#The accuracy for #8 was: 95.3%\n",
        "#The accuracy for #9 was: 95.72%"
      ],
      "execution_count": 26,
      "outputs": [
        {
          "output_type": "stream",
          "text": [
            "9572\n",
            "0.9572\n"
          ],
          "name": "stdout"
        }
      ]
    },
    {
      "metadata": {
        "id": "elYEGDe8PXiy",
        "colab_type": "code",
        "colab": {}
      },
      "cell_type": "code",
      "source": [
        ""
      ],
      "execution_count": 0,
      "outputs": []
    },
    {
      "metadata": {
        "id": "p1D1FHdJ6cf2",
        "colab_type": "code",
        "colab": {}
      },
      "cell_type": "code",
      "source": [
        ""
      ],
      "execution_count": 0,
      "outputs": []
    },
    {
      "metadata": {
        "id": "BecmQiSF6UF3",
        "colab_type": "code",
        "colab": {}
      },
      "cell_type": "code",
      "source": [
        ""
      ],
      "execution_count": 0,
      "outputs": []
    },
    {
      "metadata": {
        "id": "QpYelCkp6Qki",
        "colab_type": "code",
        "colab": {}
      },
      "cell_type": "code",
      "source": [
        ""
      ],
      "execution_count": 0,
      "outputs": []
    },
    {
      "metadata": {
        "id": "oK2s6aUa6Nll",
        "colab_type": "code",
        "colab": {}
      },
      "cell_type": "code",
      "source": [
        ""
      ],
      "execution_count": 0,
      "outputs": []
    },
    {
      "metadata": {
        "id": "NYjkcm1F5uc5",
        "colab_type": "code",
        "colab": {}
      },
      "cell_type": "code",
      "source": [
        ""
      ],
      "execution_count": 0,
      "outputs": []
    }
  ]
}