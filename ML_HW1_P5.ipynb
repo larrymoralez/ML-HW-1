{
  "nbformat": 4,
  "nbformat_minor": 0,
  "metadata": {
    "colab": {
      "name": "ML HW1 P5.ipynb",
      "version": "0.3.2",
      "provenance": [],
      "include_colab_link": true
    },
    "kernelspec": {
      "name": "python3",
      "display_name": "Python 3"
    }
  },
  "cells": [
    {
      "cell_type": "markdown",
      "metadata": {
        "id": "view-in-github",
        "colab_type": "text"
      },
      "source": [
        "<a href=\"https://colab.research.google.com/github/larrymoralez/ML-HW-1/blob/master/ML_HW1_P5.ipynb\" target=\"_parent\"><img src=\"https://colab.research.google.com/assets/colab-badge.svg\" alt=\"Open In Colab\"/></a>"
      ]
    },
    {
      "metadata": {
        "id": "cf6HasjrBCPd",
        "colab_type": "code",
        "colab": {
          "base_uri": "https://localhost:8080/",
          "height": 408
        },
        "outputId": "fdc24b92-758a-40b3-d044-7e95f3f23816"
      },
      "cell_type": "code",
      "source": [
        "import numpy as np\n",
        "import networkx as nx\n",
        "from keras.utils import to_categorical\n",
        "from keras import models\n",
        "from keras import layers\n",
        "\n",
        "#Load the MNIST Data set, split it into training and test sets, and convert it to 2D\n",
        "from keras.datasets import mnist\n",
        "\n",
        "(train_images, train_labels), (test_images, test_labels) = mnist.load_data()\n",
        "\n",
        "train_images = train_images.reshape((60000, 28 * 28))\n",
        "train_images = train_images.astype('float32') / 255\n",
        "\n",
        "test_images = test_images.reshape((10000, 28 * 28))\n",
        "test_images = test_images.astype('float32') / 255\n",
        "\n",
        "#Convert to categorical\n",
        "train_labels = to_categorical(train_labels)\n",
        "test_labels = to_categorical(test_labels)\n",
        "\n",
        "#Convert all values greater than 0.2 to 1, else to 0. Creates a black and white matrix. 0.2 gave best accuracy\n",
        "for i in range(len(train_images)):\n",
        "    for x in range(784):\n",
        "        if train_images[i][x] > 0.3:\n",
        "            train_images[i][x] = 1\n",
        "        else:\n",
        "            train_images[i][x] = 0\n",
        "\n",
        "#Set up a function for adding number of contiguous areas to new feature\n",
        "def new_feature_count(n):\n",
        "  if n == 0:\n",
        "    return 2\n",
        "  if n == 1:\n",
        "    return 1\n",
        "  if n == 2:\n",
        "    return 1\n",
        "  if n == 3:\n",
        "    return 1\n",
        "  if n == 4: \n",
        "    return 2\n",
        "  if n == 5:\n",
        "    return 1\n",
        "  if n == 6:\n",
        "    return 2\n",
        "  if n == 7:\n",
        "    return 1\n",
        "  if n == 8: \n",
        "    return 3\n",
        "  if n == 9:\n",
        "    return 2\n",
        "\n",
        "# I struggled mightely with this problem. Could we please go over this in detail during class?\n",
        "\n",
        "#Set up the network using keras\n",
        "model = models.Sequential()\n",
        "model.add(layers.Dense(10, activation='softmax'))\n",
        "model.compile(loss = 'categorical_crossentropy', optimizer = 'rmsprop', metrics=['accuracy'])\n",
        "\n",
        "model.fit(train_images, train_labels, epochs = 10, batch_size=1000, validation_data=(test_images, test_labels))\n",
        "\n",
        "acc = model.evaluate(test_images, test_labels)\n",
        "print(acc)\n",
        "\n"
      ],
      "execution_count": 8,
      "outputs": [
        {
          "output_type": "stream",
          "text": [
            "Train on 60000 samples, validate on 10000 samples\n",
            "Epoch 1/10\n",
            "60000/60000 [==============================] - 1s 11us/step - loss: 1.1856 - acc: 0.7102 - val_loss: 0.8012 - val_acc: 0.8467\n",
            "Epoch 2/10\n",
            "60000/60000 [==============================] - 0s 8us/step - loss: 0.5766 - acc: 0.8580 - val_loss: 0.5188 - val_acc: 0.8852\n",
            "Epoch 3/10\n",
            "60000/60000 [==============================] - 0s 8us/step - loss: 0.4302 - acc: 0.8839 - val_loss: 0.4191 - val_acc: 0.9008\n",
            "Epoch 4/10\n",
            "60000/60000 [==============================] - 0s 8us/step - loss: 0.3737 - acc: 0.8961 - val_loss: 0.3737 - val_acc: 0.9069\n",
            "Epoch 5/10\n",
            "60000/60000 [==============================] - 0s 8us/step - loss: 0.3448 - acc: 0.9032 - val_loss: 0.3495 - val_acc: 0.9118\n",
            "Epoch 6/10\n",
            "60000/60000 [==============================] - 0s 8us/step - loss: 0.3274 - acc: 0.9077 - val_loss: 0.3326 - val_acc: 0.9132\n",
            "Epoch 7/10\n",
            "60000/60000 [==============================] - 0s 8us/step - loss: 0.3157 - acc: 0.9105 - val_loss: 0.3230 - val_acc: 0.9151\n",
            "Epoch 8/10\n",
            "60000/60000 [==============================] - 0s 8us/step - loss: 0.3068 - acc: 0.9129 - val_loss: 0.3165 - val_acc: 0.9159\n",
            "Epoch 9/10\n",
            "60000/60000 [==============================] - 0s 8us/step - loss: 0.3002 - acc: 0.9148 - val_loss: 0.3074 - val_acc: 0.9182\n",
            "Epoch 10/10\n",
            "60000/60000 [==============================] - 0s 8us/step - loss: 0.2948 - acc: 0.9161 - val_loss: 0.3042 - val_acc: 0.9194\n",
            "10000/10000 [==============================] - 0s 22us/step\n",
            "[0.30424639773368833, 0.9194]\n"
          ],
          "name": "stdout"
        }
      ]
    }
  ]
}