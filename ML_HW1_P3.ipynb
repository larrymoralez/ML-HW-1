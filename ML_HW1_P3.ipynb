{
  "nbformat": 4,
  "nbformat_minor": 0,
  "metadata": {
    "colab": {
      "name": "ML HW1 P3",
      "version": "0.3.2",
      "provenance": [],
      "include_colab_link": true
    },
    "kernelspec": {
      "name": "python3",
      "display_name": "Python 3"
    }
  },
  "cells": [
    {
      "cell_type": "markdown",
      "metadata": {
        "id": "view-in-github",
        "colab_type": "text"
      },
      "source": [
        "<a href=\"https://colab.research.google.com/github/larrymoralez/ML-HW-1/blob/master/ML_HW1_P3.ipynb\" target=\"_parent\"><img src=\"https://colab.research.google.com/assets/colab-badge.svg\" alt=\"Open In Colab\"/></a>"
      ]
    },
    {
      "metadata": {
        "id": "vejT2jnXXuph",
        "colab_type": "code",
        "colab": {
          "base_uri": "https://localhost:8080/",
          "height": 51
        },
        "outputId": "30c79dc7-90b4-459b-e294-78b2bf171d9f"
      },
      "cell_type": "code",
      "source": [
        "import numpy as np\n",
        "from keras.utils import to_categorical\n",
        "\n",
        "#Load the MNIST Data set, split it into training and test sets, and convert it to 2D\n",
        "from keras.datasets import mnist\n",
        "\n",
        "(train_images, train_labels), (test_images, test_labels) = mnist.load_data()\n",
        "\n",
        "train_images = train_images.reshape((60000, 28 * 28))\n",
        "train_images = train_images.astype('float32') / 255\n",
        "# if run into problems use (60000, 784, 1)?\n",
        "\n",
        "test_images = test_images.reshape((10000, 28 * 28))\n",
        "test_images = test_images.astype('float32') / 255\n",
        "\n",
        "train_labels = to_categorical(train_labels)\n",
        "test_labels = to_categorical(test_labels)\n",
        "\n",
        "\n",
        "#Define softmax function\n",
        "def softmax(x):\n",
        "    e_x = np.exp(x - np.max(x))\n",
        "    return e_x / e_x.sum() \n",
        "\n",
        "#Shuffle the training labels\n",
        "s = np.random.permutation(len(train_labels))\n",
        "train_labels[s]\n",
        "\n",
        "#Set initial parameters \n",
        "batch_size = 1000\n",
        "epochs = 10\n",
        "lr = 1.5\n",
        "np.random.seed(42)\n",
        "initial_weight = np.random.randn(784, 10) # needs to be same dimensions as train_images. #for problem 3, do the same thing for 10, 28, 28 matrix (10,784) or (784, 10)\n",
        "weight = np.array(initial_weight, dtype=np.float64)\n",
        "n = len(train_images)\n",
        "b = np.random.random_sample(10)\n",
        "b = np.array(b, dtype=np.float64)\n",
        "delta = np.identity(10)\n",
        "gradient_bias = np.zeros(10)\n",
        "gradient_weight = np.zeros((10, 784))\n",
        "\n",
        "for epoch in range(epochs):\n",
        "    for i in range(batch_size):\n",
        "        offset = epoch * batch_size + i\n",
        "        xi = train_images[s[offset]]\n",
        "        yi = train_labels[s[offset]]\n",
        "        weight_gradient = np.zeros((10,784))\n",
        "        pd_sum_matrix = np.zeros(10)\n",
        "        z = weight.T.dot(xi) + b\n",
        "        a = softmax(z)\n",
        "        \n",
        "        for j in range(10):\n",
        "            pd_sum = yi * (a[j] - delta[j])\n",
        "            pd_sum_matrix[j] = pd_sum[np.argmax(yi)]\n",
        "            weight_gradient[j] = pd_sum[np.argmax(yi)] * xi\n",
        "        weight = weight - lr * weight_gradient.T\n",
        "        b = b - lr * pd_sum_matrix\n",
        "\n",
        "#Run test images through the model to get predictions       \n",
        "prediction_array = [0 for x in range(len(test_images))]\n",
        "\n",
        "for i in range(len(test_images)):\n",
        "    x = test_images[i]\n",
        "    z = weight.T.dot(x) + b\n",
        "    a_predict = softmax(z)\n",
        "    prediction_array[i] = a_predict\n",
        "\n",
        "\n",
        "#Check predictions and calculate accuracy\n",
        "count_correct = 0\n",
        "\n",
        "for i in range(len(test_labels)):\n",
        "    y = test_labels[i]\n",
        "    if np.argmax(prediction_array[i]) == np.argmax(y):\n",
        "        count_correct = count_correct + 1\n",
        "    accuracy = count_correct/(len(test_labels))\n",
        "\n",
        "print(count_correct) \n",
        "print(accuracy)"
      ],
      "execution_count": 18,
      "outputs": [
        {
          "output_type": "stream",
          "text": [
            "8804\n",
            "0.8804\n"
          ],
          "name": "stdout"
        }
      ]
    },
    {
      "metadata": {
        "id": "hw63OKoQMaWb",
        "colab_type": "code",
        "colab": {}
      },
      "cell_type": "code",
      "source": [
        ""
      ],
      "execution_count": 0,
      "outputs": []
    },
    {
      "metadata": {
        "id": "_fSFAbNGMU0p",
        "colab_type": "code",
        "colab": {}
      },
      "cell_type": "code",
      "source": [
        ""
      ],
      "execution_count": 0,
      "outputs": []
    },
    {
      "metadata": {
        "id": "r85SV5x19Y_I",
        "colab_type": "code",
        "colab": {}
      },
      "cell_type": "code",
      "source": [
        ""
      ],
      "execution_count": 0,
      "outputs": []
    },
    {
      "metadata": {
        "id": "FSQFkbba9VcK",
        "colab_type": "code",
        "colab": {}
      },
      "cell_type": "code",
      "source": [
        ""
      ],
      "execution_count": 0,
      "outputs": []
    }
  ]
}