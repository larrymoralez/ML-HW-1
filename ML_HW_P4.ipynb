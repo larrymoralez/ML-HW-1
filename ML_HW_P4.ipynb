{
  "nbformat": 4,
  "nbformat_minor": 0,
  "metadata": {
    "colab": {
      "name": "ML HW P4.ipynb",
      "version": "0.3.2",
      "provenance": [],
      "include_colab_link": true
    },
    "kernelspec": {
      "name": "python3",
      "display_name": "Python 3"
    }
  },
  "cells": [
    {
      "cell_type": "markdown",
      "metadata": {
        "id": "view-in-github",
        "colab_type": "text"
      },
      "source": [
        "<a href=\"https://colab.research.google.com/github/larrymoralez/ML-HW-1/blob/master/ML_HW_P4.ipynb\" target=\"_parent\"><img src=\"https://colab.research.google.com/assets/colab-badge.svg\" alt=\"Open In Colab\"/></a>"
      ]
    },
    {
      "metadata": {
        "id": "vU8fGjPH-voy",
        "colab_type": "code",
        "colab": {
          "base_uri": "https://localhost:8080/",
          "height": 753
        },
        "outputId": "db861019-7675-49f0-d6eb-1e55fa054dad"
      },
      "cell_type": "code",
      "source": [
        "import numpy as np\n",
        "from keras.datasets import mnist\n",
        "from keras.utils import to_categorical\n",
        "from keras import models\n",
        "from keras import layers\n",
        "\n",
        "(train_images, train_labels), (test_images, test_labels) = mnist.load_data()\n",
        "\n",
        "train_images = train_images.reshape((60000, 28 * 28))\n",
        "train_images = train_images.astype('float32') / 255\n",
        "\n",
        "test_images = test_images.reshape((10000, 28 * 28))\n",
        "test_images = test_images.astype('float32') / 255\n",
        "\n",
        "\n",
        "\n",
        "train_labels = to_categorical(train_labels)\n",
        "test_labels = to_categorical(test_labels)\n",
        "\n",
        "\n",
        "model = models.Sequential()\n",
        "model.add(layers.Dense(10, activation='softmax'))\n",
        "model.compile(loss = 'categorical_crossentropy', optimizer = 'rmsprop', metrics=['accuracy'])\n",
        "\n",
        "model.fit(train_images, train_labels, epochs = 10, batch_size=1000, validation_data=(test_images, test_labels))\n",
        "\n",
        "acc = model.evaluate(test_images, test_labels)\n",
        "print(acc)\n",
        "\n",
        "#accuracy was 92.1%"
      ],
      "execution_count": 3,
      "outputs": [
        {
          "output_type": "stream",
          "text": [
            "WARNING:tensorflow:From /usr/local/lib/python3.6/dist-packages/tensorflow/python/framework/op_def_library.py:263: colocate_with (from tensorflow.python.framework.ops) is deprecated and will be removed in a future version.\n",
            "Instructions for updating:\n",
            "Colocations handled automatically by placer.\n",
            "WARNING:tensorflow:From /usr/local/lib/python3.6/dist-packages/tensorflow/python/ops/math_ops.py:3066: to_int32 (from tensorflow.python.ops.math_ops) is deprecated and will be removed in a future version.\n",
            "Instructions for updating:\n",
            "Use tf.cast instead.\n",
            "Train on 60000 samples, validate on 10000 samples\n",
            "Epoch 1/10\n",
            "60000/60000 [==============================] - 1s 18us/step - loss: 1.2903 - acc: 0.6979 - val_loss: 0.7889 - val_acc: 0.8345\n",
            "Epoch 2/10\n",
            "60000/60000 [==============================] - 0s 8us/step - loss: 0.6398 - acc: 0.8534 - val_loss: 0.4984 - val_acc: 0.8774\n",
            "Epoch 3/10\n",
            "60000/60000 [==============================] - 0s 8us/step - loss: 0.4629 - acc: 0.8801 - val_loss: 0.3994 - val_acc: 0.8972\n",
            "Epoch 4/10\n",
            "60000/60000 [==============================] - 0s 8us/step - loss: 0.3923 - acc: 0.8947 - val_loss: 0.3538 - val_acc: 0.9066\n",
            "Epoch 5/10\n",
            "60000/60000 [==============================] - 0s 8us/step - loss: 0.3561 - acc: 0.9032 - val_loss: 0.3307 - val_acc: 0.9105\n",
            "Epoch 6/10\n",
            "60000/60000 [==============================] - 0s 8us/step - loss: 0.3347 - acc: 0.9082 - val_loss: 0.3133 - val_acc: 0.9142\n",
            "Epoch 7/10\n",
            "60000/60000 [==============================] - 0s 8us/step - loss: 0.3202 - acc: 0.9113 - val_loss: 0.3047 - val_acc: 0.9159\n",
            "Epoch 8/10\n",
            "60000/60000 [==============================] - 0s 8us/step - loss: 0.3096 - acc: 0.9139 - val_loss: 0.2962 - val_acc: 0.9183\n",
            "Epoch 9/10\n",
            "60000/60000 [==============================] - 0s 8us/step - loss: 0.3018 - acc: 0.9159 - val_loss: 0.2905 - val_acc: 0.9198\n",
            "Epoch 10/10\n",
            "60000/60000 [==============================] - 0s 7us/step - loss: 0.2956 - acc: 0.9177 - val_loss: 0.2870 - val_acc: 0.9210\n",
            "10000/10000 [==============================] - 0s 23us/step\n",
            "[0.2870167847722769, 0.921]\n"
          ],
          "name": "stdout"
        }
      ]
    }
  ]
}